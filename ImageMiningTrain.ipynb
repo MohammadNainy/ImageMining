{
 "cells": [
  {
   "cell_type": "code",
   "execution_count": 1,
   "id": "69abd8b4-e3f9-49e2-89ac-5ec63d3df68f",
   "metadata": {},
   "outputs": [],
   "source": [
    "from sklearn.preprocessing import LabelEncoder, MinMaxScaler\n",
    "import numpy as np\n",
    "import pandas as pd\n",
    "import cv2\n",
    "import os\n",
    "import h5py\n",
    "import pickle"
   ]
  },
  {
   "cell_type": "code",
   "execution_count": 2,
   "id": "9b51d150-04b7-479c-8446-1aa453eac052",
   "metadata": {},
   "outputs": [
    {
     "data": {
      "text/plain": [
       "['Bluebell',\n",
       " 'Buttercup',\n",
       " 'ColtsFoot',\n",
       " 'Cowslip',\n",
       " 'Crocus',\n",
       " 'Daisy',\n",
       " 'Dandelion',\n",
       " 'Dffodil',\n",
       " 'Fritillary',\n",
       " 'Iris',\n",
       " 'LilyValley',\n",
       " 'Pansy',\n",
       " 'Snowdrop',\n",
       " 'Sunflower',\n",
       " 'Tigerlily',\n",
       " 'Tulip',\n",
       " 'Windflower']"
      ]
     },
     "execution_count": 2,
     "metadata": {},
     "output_type": "execute_result"
    }
   ],
   "source": [
    "train_labels = os.listdir(\"jpg_category/\")\n",
    "train_labels"
   ]
  },
  {
   "cell_type": "code",
   "execution_count": 3,
   "id": "cec5d6df-65e5-4535-bdb4-d7b7b1ed1638",
   "metadata": {},
   "outputs": [],
   "source": [
    "image_features = []\n",
    "image_labels = []\n",
    "for label in train_labels:\n",
    "    path = os.path.join(\"jpg_category\",label)\n",
    "    current_label = label\n",
    "    files = os.listdir(path)\n",
    "    for x in files:\n",
    "        file = os.path.join(path,x)\n",
    "        if not os.path.exists(file):\n",
    "            print(f\"تصویر یافت نشد: {file}\")\n",
    "            continue\n",
    "        image = cv2.imread(file)\n",
    "        if image is None:\n",
    "            print(f\"خطا در بارگذاری تصویر: {file}\")\n",
    "            continue\n",
    "        image = cv2.resize(image,(500,500))\n",
    "        hist = cv2.calcHist([image],[0,1,2],None,[8,8,8],[0,256,0,256,0,256])\n",
    "        cv2.normalize(hist,hist)\n",
    "        hist_flat = hist.flatten()\n",
    "        image_gray = cv2.cvtColor(image,cv2.COLOR_BGR2GRAY)\n",
    "        hue_image = cv2.HuMoments(cv2.moments(image_gray)).flatten()\n",
    "        all_features = np.hstack([hist_flat, hue_image])\n",
    "        image_features.append(all_features)\n",
    "        image_labels.append(label)"
   ]
  },
  {
   "cell_type": "code",
   "execution_count": 4,
   "id": "bf3670a3-fac0-4749-be6f-c1392863ff29",
   "metadata": {},
   "outputs": [
    {
     "data": {
      "text/plain": [
       "(1360, 519)"
      ]
     },
     "execution_count": 4,
     "metadata": {},
     "output_type": "execute_result"
    }
   ],
   "source": [
    "np.shape(image_features)"
   ]
  },
  {
   "cell_type": "code",
   "execution_count": 5,
   "id": "6565cc8d-d9c3-4ab5-a6c1-56500f114f13",
   "metadata": {},
   "outputs": [
    {
     "data": {
      "text/plain": [
       "(1360,)"
      ]
     },
     "execution_count": 5,
     "metadata": {},
     "output_type": "execute_result"
    }
   ],
   "source": [
    "np.shape(image_labels)"
   ]
  },
  {
   "cell_type": "code",
   "execution_count": 6,
   "id": "2ee85b21-57c5-440b-9ddf-087898d7642d",
   "metadata": {},
   "outputs": [
    {
     "data": {
      "text/plain": [
       "array([ 0,  0,  0, ..., 16, 16, 16], dtype=int64)"
      ]
     },
     "execution_count": 6,
     "metadata": {},
     "output_type": "execute_result"
    }
   ],
   "source": [
    "label_encod = LabelEncoder()\n",
    "image_label_encod = label_encod.fit_transform(image_labels)\n",
    "image_label_encod"
   ]
  },
  {
   "cell_type": "code",
   "execution_count": 7,
   "id": "e7f4447c-d2d9-4add-99a1-0e727b6483dd",
   "metadata": {},
   "outputs": [
    {
     "data": {
      "text/plain": [
       "array([[1.97624573e-02, 5.78024168e-04, 0.00000000e+00, ...,\n",
       "        3.86393234e-18, 5.20710681e-02, 1.98687454e-17],\n",
       "       [1.74216708e-04, 0.00000000e+00, 0.00000000e+00, ...,\n",
       "        3.86393622e-18, 5.20754831e-02, 1.98687346e-17],\n",
       "       [0.00000000e+00, 0.00000000e+00, 0.00000000e+00, ...,\n",
       "        3.86393611e-18, 5.20756714e-02, 1.98687525e-17],\n",
       "       ...,\n",
       "       [8.78464639e-02, 4.14349259e-03, 0.00000000e+00, ...,\n",
       "        3.86466489e-18, 5.24989973e-02, 1.98683835e-17],\n",
       "       [4.34821308e-02, 1.58172996e-02, 1.84748745e-04, ...,\n",
       "        3.86392312e-18, 5.21474623e-02, 1.98687803e-17],\n",
       "       [2.38287393e-01, 7.91747487e-02, 7.36974103e-04, ...,\n",
       "        3.86392990e-18, 5.20687142e-02, 1.98687461e-17]])"
      ]
     },
     "execution_count": 7,
     "metadata": {},
     "output_type": "execute_result"
    }
   ],
   "source": [
    "mms = MinMaxScaler()\n",
    "image_features_mms = mms.fit_transform(image_features)\n",
    "image_features_mms"
   ]
  },
  {
   "cell_type": "code",
   "execution_count": 9,
   "id": "4bc23d81-ddc8-42f2-8012-9df727cdac0f",
   "metadata": {},
   "outputs": [],
   "source": [
    "if not os.path.exists(\"data/labels.h5\"):\n",
    "    h5_label = h5py.File(\"data/labels.h5\",'w')\n",
    "    h5_label.create_dataset(\"target\",data=np.array(image_label_encod))"
   ]
  },
  {
   "cell_type": "code",
   "execution_count": 11,
   "id": "32cbaf38-c88d-45b9-b7b7-c10f3c020758",
   "metadata": {},
   "outputs": [],
   "source": [
    "if not os.path.exists(\"data/features.h5\"):\n",
    "    h5_feature = h5py.File(\"data/features.h5\",'w')\n",
    "    h5_feature.create_dataset(\"features\",data=np.array(image_features_mms))"
   ]
  },
  {
   "cell_type": "code",
   "execution_count": 13,
   "id": "28424606-acbd-41a4-9883-8e5a87c54c9c",
   "metadata": {},
   "outputs": [],
   "source": [
    "h5_label.close()\n",
    "h5_feature.close()"
   ]
  },
  {
   "cell_type": "code",
   "execution_count": 15,
   "id": "68c52dcd-5e9f-4f57-8400-5b73526bd0a2",
   "metadata": {},
   "outputs": [],
   "source": [
    "if not os.path.exists(\"data/le.h5\"):\n",
    "    with open(\"data/le.h5\",\"wb\") as f:\n",
    "        pickle.dump(label_encod,f)"
   ]
  },
  {
   "cell_type": "code",
   "execution_count": 17,
   "id": "0ba4056d-7e9a-478f-ba32-0356c9add71c",
   "metadata": {},
   "outputs": [],
   "source": [
    "if not os.path.exists(\"data/mms.h5\"):\n",
    "    with open(\"data/mms.h5\",\"wb\") as f:\n",
    "        pickle.dump(mms,f)"
   ]
  },
  {
   "cell_type": "code",
   "execution_count": null,
   "id": "a8fda237-9200-4fe1-a2b1-682419ece6b8",
   "metadata": {},
   "outputs": [],
   "source": []
  }
 ],
 "metadata": {
  "kernelspec": {
   "display_name": "Python 3 (ipykernel)",
   "language": "python",
   "name": "python3"
  },
  "language_info": {
   "codemirror_mode": {
    "name": "ipython",
    "version": 3
   },
   "file_extension": ".py",
   "mimetype": "text/x-python",
   "name": "python",
   "nbconvert_exporter": "python",
   "pygments_lexer": "ipython3",
   "version": "3.11.7"
  }
 },
 "nbformat": 4,
 "nbformat_minor": 5
}
