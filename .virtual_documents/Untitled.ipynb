import os
import shutil


image_path = "jpg/"
categoty_path = "jpg_category/"
if not os.path.exists(categoty_path):
    os.mkdir(categoty_path)



flowers_name = [
    "Dffodil","Snowdrop","LilyValley","Bluebell","Crocus","Iris","Tigerlily","Tulip","Fritillary","Sunflower","Daisy","ColtsFoot","Dandelion","Cowslip","Buttercup","Windflower","Pansy"
]
images_per_flower = 80


for i , flower_name in enumerate(flowers_name,start=1):
    flower_folder = os.path.join(categoty_path,flower_name)
    os.makedirs(flower_folder,exist_ok=True)
    start_i = (i-1)*images_per_flower+1
    end_i = i*images_per_flower+1
    for image in range(start_i,end_i):
        image_name = f"image_{image:04d}.jpg"
        image_source = os.path.join(image_path,image_name)
        destination = os.path.join(flower_folder,image_name)
        if os.path.exists(image_source):
            shutil.copy(image_source, destination)
        else:
            print(f"Image {image_name} not found!")




