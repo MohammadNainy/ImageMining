import h5py
import numpy as np
import os
from sklearn.model_selection import train_test_split
from sklearn.ensemble import RandomForestClassifier
from sklearn.metrics import classification_report
from xgboost import XGBClassifier
from sklearn.svm import SVC


X = np.array(h5py.File("data/features.h5",'r')["features"])
y = np.array(h5py.File("data/labels.h5",'r')["target"])


X_train , X_test , y_train , y_test = train_test_split(X,y,random_state=432)


rfc = RandomForestClassifier(random_state=432)
rfc.fit(X_train,y_train)


y_pred = rfc.predict(X_test)


print(classification_report(y_pred,y_test))


xgb = XGBClassifier(eval_metric='logloss',random_state=432)


xgb.fit(X_train, y_train)
y_pred = xgb.predict(X_test)
print(classification_report(y_test, y_pred))


svm_model = SVC(random_state=432)


svm_model.fit(X_train, y_train)
y_pred = svm_model.predict(X_test)
print(classification_report(y_test, y_pred))



