import cv2
import matplotlib.pyplot as plt
import numpy as np



image_path = "jpg/image_0001.jpg"
image = cv2.imread(image_path)
image_resize = cv2.resize(image, (500, 500))
image_hsv = cv2.cvtColor(image_resize ,cv2.COLOR_BGR2HSV)


hist = cv2.calcHist([image_resize],[0,1,2],None,[8,8,8],[0,256,0,256,0,256])
cv2.normalize(hist, hist)
image_hist = hist.flatten()
np.shape(image_hist)


hist_1d = cv2.calcHist([image_resize],[0],None,[256],[0,256])
hist_1d


plt.plot(hist_1d)


hist_1d_green = cv2.calcHist([image_resize],[1],None,[256],[0,256])
plt.plot(hist_1d_green,color="green");


for channel , col in enumerate(("b","g","r")):
    hist_1d_color = cv2.calcHist([image_resize],[channel],None,[256],[0,256])
    plt.plot(hist_1d_color,color=col)


gray_image = cv2.cvtColor(image_resize, cv2.COLOR_BGR2GRAY)
gray_hist = cv2.calcHist([gray_image], [0], None, [256], [0, 256])
plt.plot(gray_hist)


hum_feature = cv2.HuMoments(cv2.moments(gray_image)).flatten()
hum_feature



