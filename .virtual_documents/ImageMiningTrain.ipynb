from sklearn.preprocessing import LabelEncoder, MinMaxScaler
import numpy as np
import pandas as pd
import cv2
import os
import h5py
import pickle


train_labels = os.listdir("jpg_category/")
train_labels


image_features = []
image_labels = []
for label in train_labels:
    path = os.path.join("jpg_category",label)
    current_label = label
    files = os.listdir(path)
    for x in files:
        file = os.path.join(path,x)
        if not os.path.exists(file):
            print(f"تصویر یافت نشد: {file}")
            continue
        image = cv2.imread(file)
        if image is None:
            print(f"خطا در بارگذاری تصویر: {file}")
            continue
        image = cv2.resize(image,(500,500))
        hist = cv2.calcHist([image],[0,1,2],None,[8,8,8],[0,256,0,256,0,256])
        cv2.normalize(hist,hist)
        hist_flat = hist.flatten()
        image_gray = cv2.cvtColor(image,cv2.COLOR_BGR2GRAY)
        hue_image = cv2.HuMoments(cv2.moments(image_gray)).flatten()
        all_features = np.hstack([hist_flat, hue_image])
        image_features.append(all_features)
        image_labels.append(label)


np.shape(image_features)


np.shape(image_labels)


label_encod = LabelEncoder()
image_label_encod = label_encod.fit_transform(image_labels)
image_label_encod


mms = MinMaxScaler()
image_features_mms = mms.fit_transform(image_features)
image_features_mms


if not os.path.exists("data/labels.h5"):
    h5_label = h5py.File("data/labels.h5",'w')
    h5_label.create_dataset("target",data=np.array(image_label_encod))


if not os.path.exists("data/features.h5"):
    h5_feature = h5py.File("data/features.h5",'w')
    h5_feature.create_dataset("features",data=np.array(image_features_mms))


h5_label.close()
h5_feature.close()


if not os.path.exists("data/le.h5"):
    with open("data/le.h5","wb") as f:
        pickle.dump(label_encod,f)


if not os.path.exists("data/mms.h5"):
    with open("data/mms.h5","wb") as f:
        pickle.dump(mms,f)



