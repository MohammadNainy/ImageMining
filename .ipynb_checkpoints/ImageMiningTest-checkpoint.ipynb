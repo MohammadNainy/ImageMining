{
 "cells": [
  {
   "cell_type": "code",
   "execution_count": 28,
   "id": "3aec199a-90f7-4824-b445-d950a7eeb1ea",
   "metadata": {},
   "outputs": [],
   "source": [
    "import h5py\n",
    "import numpy as np\n",
    "import os\n",
    "from sklearn.model_selection import train_test_split\n",
    "from sklearn.ensemble import RandomForestClassifier\n",
    "from sklearn.metrics import classification_report\n",
    "from xgboost import XGBClassifier\n",
    "from sklearn.svm import SVC"
   ]
  },
  {
   "cell_type": "code",
   "execution_count": 5,
   "id": "9e3275d6-ed09-4ea2-b5a9-529eff2acea5",
   "metadata": {},
   "outputs": [],
   "source": [
    "X = np.array(h5py.File(\"data/features.h5\",'r')[\"features\"])\n",
    "y = np.array(h5py.File(\"data/labels.h5\",'r')[\"target\"])"
   ]
  },
  {
   "cell_type": "code",
   "execution_count": 7,
   "id": "082218be-6bb2-4db1-bc75-e88eaa1281a4",
   "metadata": {},
   "outputs": [],
   "source": [
    "X_train , X_test , y_train , y_test = train_test_split(X,y,random_state=432)"
   ]
  },
  {
   "cell_type": "code",
   "execution_count": 9,
   "id": "c54e658c-7447-464a-810c-cc799eb38bd7",
   "metadata": {},
   "outputs": [
    {
     "data": {
      "text/html": [
       "<style>#sk-container-id-1 {color: black;background-color: white;}#sk-container-id-1 pre{padding: 0;}#sk-container-id-1 div.sk-toggleable {background-color: white;}#sk-container-id-1 label.sk-toggleable__label {cursor: pointer;display: block;width: 100%;margin-bottom: 0;padding: 0.3em;box-sizing: border-box;text-align: center;}#sk-container-id-1 label.sk-toggleable__label-arrow:before {content: \"▸\";float: left;margin-right: 0.25em;color: #696969;}#sk-container-id-1 label.sk-toggleable__label-arrow:hover:before {color: black;}#sk-container-id-1 div.sk-estimator:hover label.sk-toggleable__label-arrow:before {color: black;}#sk-container-id-1 div.sk-toggleable__content {max-height: 0;max-width: 0;overflow: hidden;text-align: left;background-color: #f0f8ff;}#sk-container-id-1 div.sk-toggleable__content pre {margin: 0.2em;color: black;border-radius: 0.25em;background-color: #f0f8ff;}#sk-container-id-1 input.sk-toggleable__control:checked~div.sk-toggleable__content {max-height: 200px;max-width: 100%;overflow: auto;}#sk-container-id-1 input.sk-toggleable__control:checked~label.sk-toggleable__label-arrow:before {content: \"▾\";}#sk-container-id-1 div.sk-estimator input.sk-toggleable__control:checked~label.sk-toggleable__label {background-color: #d4ebff;}#sk-container-id-1 div.sk-label input.sk-toggleable__control:checked~label.sk-toggleable__label {background-color: #d4ebff;}#sk-container-id-1 input.sk-hidden--visually {border: 0;clip: rect(1px 1px 1px 1px);clip: rect(1px, 1px, 1px, 1px);height: 1px;margin: -1px;overflow: hidden;padding: 0;position: absolute;width: 1px;}#sk-container-id-1 div.sk-estimator {font-family: monospace;background-color: #f0f8ff;border: 1px dotted black;border-radius: 0.25em;box-sizing: border-box;margin-bottom: 0.5em;}#sk-container-id-1 div.sk-estimator:hover {background-color: #d4ebff;}#sk-container-id-1 div.sk-parallel-item::after {content: \"\";width: 100%;border-bottom: 1px solid gray;flex-grow: 1;}#sk-container-id-1 div.sk-label:hover label.sk-toggleable__label {background-color: #d4ebff;}#sk-container-id-1 div.sk-serial::before {content: \"\";position: absolute;border-left: 1px solid gray;box-sizing: border-box;top: 0;bottom: 0;left: 50%;z-index: 0;}#sk-container-id-1 div.sk-serial {display: flex;flex-direction: column;align-items: center;background-color: white;padding-right: 0.2em;padding-left: 0.2em;position: relative;}#sk-container-id-1 div.sk-item {position: relative;z-index: 1;}#sk-container-id-1 div.sk-parallel {display: flex;align-items: stretch;justify-content: center;background-color: white;position: relative;}#sk-container-id-1 div.sk-item::before, #sk-container-id-1 div.sk-parallel-item::before {content: \"\";position: absolute;border-left: 1px solid gray;box-sizing: border-box;top: 0;bottom: 0;left: 50%;z-index: -1;}#sk-container-id-1 div.sk-parallel-item {display: flex;flex-direction: column;z-index: 1;position: relative;background-color: white;}#sk-container-id-1 div.sk-parallel-item:first-child::after {align-self: flex-end;width: 50%;}#sk-container-id-1 div.sk-parallel-item:last-child::after {align-self: flex-start;width: 50%;}#sk-container-id-1 div.sk-parallel-item:only-child::after {width: 0;}#sk-container-id-1 div.sk-dashed-wrapped {border: 1px dashed gray;margin: 0 0.4em 0.5em 0.4em;box-sizing: border-box;padding-bottom: 0.4em;background-color: white;}#sk-container-id-1 div.sk-label label {font-family: monospace;font-weight: bold;display: inline-block;line-height: 1.2em;}#sk-container-id-1 div.sk-label-container {text-align: center;}#sk-container-id-1 div.sk-container {/* jupyter's `normalize.less` sets `[hidden] { display: none; }` but bootstrap.min.css set `[hidden] { display: none !important; }` so we also need the `!important` here to be able to override the default hidden behavior on the sphinx rendered scikit-learn.org. See: https://github.com/scikit-learn/scikit-learn/issues/21755 */display: inline-block !important;position: relative;}#sk-container-id-1 div.sk-text-repr-fallback {display: none;}</style><div id=\"sk-container-id-1\" class=\"sk-top-container\"><div class=\"sk-text-repr-fallback\"><pre>RandomForestClassifier(random_state=432)</pre><b>In a Jupyter environment, please rerun this cell to show the HTML representation or trust the notebook. <br />On GitHub, the HTML representation is unable to render, please try loading this page with nbviewer.org.</b></div><div class=\"sk-container\" hidden><div class=\"sk-item\"><div class=\"sk-estimator sk-toggleable\"><input class=\"sk-toggleable__control sk-hidden--visually\" id=\"sk-estimator-id-1\" type=\"checkbox\" checked><label for=\"sk-estimator-id-1\" class=\"sk-toggleable__label sk-toggleable__label-arrow\">RandomForestClassifier</label><div class=\"sk-toggleable__content\"><pre>RandomForestClassifier(random_state=432)</pre></div></div></div></div></div>"
      ],
      "text/plain": [
       "RandomForestClassifier(random_state=432)"
      ]
     },
     "execution_count": 9,
     "metadata": {},
     "output_type": "execute_result"
    }
   ],
   "source": [
    "rfc = RandomForestClassifier(random_state=432)\n",
    "rfc.fit(X_train,y_train)"
   ]
  },
  {
   "cell_type": "code",
   "execution_count": 12,
   "id": "57dda3a3-7ad9-405b-8f11-91766871468a",
   "metadata": {},
   "outputs": [],
   "source": [
    "y_pred = rfc.predict(X_test)"
   ]
  },
  {
   "cell_type": "code",
   "execution_count": 14,
   "id": "5d25f5be-89e4-405e-ba1d-2237cd0b6f55",
   "metadata": {},
   "outputs": [
    {
     "name": "stdout",
     "output_type": "stream",
     "text": [
      "              precision    recall  f1-score   support\n",
      "\n",
      "           0       0.73      0.79      0.76        14\n",
      "           1       0.67      0.48      0.56        21\n",
      "           2       0.79      0.68      0.73        22\n",
      "           3       0.65      0.52      0.58        29\n",
      "           4       0.52      0.69      0.59        16\n",
      "           5       0.84      0.73      0.78        22\n",
      "           6       0.55      0.67      0.60        18\n",
      "           7       0.50      0.64      0.56        14\n",
      "           8       0.88      0.84      0.86        25\n",
      "           9       0.50      0.83      0.62        12\n",
      "          10       0.61      0.61      0.61        23\n",
      "          11       0.67      0.86      0.75        14\n",
      "          12       0.79      0.50      0.61        30\n",
      "          13       0.66      0.90      0.76        21\n",
      "          14       0.92      0.85      0.88        26\n",
      "          15       0.44      0.64      0.52        11\n",
      "          16       0.87      0.59      0.70        22\n",
      "\n",
      "    accuracy                           0.68       340\n",
      "   macro avg       0.68      0.69      0.67       340\n",
      "weighted avg       0.71      0.68      0.68       340\n",
      "\n"
     ]
    }
   ],
   "source": [
    "print(classification_report(y_pred,y_test))"
   ]
  },
  {
   "cell_type": "code",
   "execution_count": 24,
   "id": "639c0d4e-1114-4419-ba1a-43d5255e6ceb",
   "metadata": {},
   "outputs": [],
   "source": [
    "xgb = XGBClassifier(eval_metric='logloss',random_state=432)"
   ]
  },
  {
   "cell_type": "code",
   "execution_count": 26,
   "id": "0b2c2a35-32ad-4912-ab9f-ca9a744c21d5",
   "metadata": {},
   "outputs": [
    {
     "name": "stdout",
     "output_type": "stream",
     "text": [
      "              precision    recall  f1-score   support\n",
      "\n",
      "           0       0.86      0.80      0.83        15\n",
      "           1       0.56      0.60      0.58        15\n",
      "           2       0.75      0.79      0.77        19\n",
      "           3       0.50      0.43      0.47        23\n",
      "           4       0.68      0.62      0.65        21\n",
      "           5       0.88      0.74      0.80        19\n",
      "           6       0.61      0.50      0.55        22\n",
      "           7       0.52      0.67      0.59        18\n",
      "           8       0.86      0.79      0.83        24\n",
      "           9       0.76      0.65      0.70        20\n",
      "          10       0.61      0.61      0.61        23\n",
      "          11       0.81      0.72      0.76        18\n",
      "          12       0.52      0.74      0.61        19\n",
      "          13       0.92      0.83      0.87        29\n",
      "          14       0.81      0.88      0.84        24\n",
      "          15       0.35      0.44      0.39        16\n",
      "          16       0.76      0.87      0.81        15\n",
      "\n",
      "    accuracy                           0.69       340\n",
      "   macro avg       0.69      0.69      0.69       340\n",
      "weighted avg       0.70      0.69      0.69       340\n",
      "\n"
     ]
    }
   ],
   "source": [
    "xgb.fit(X_train, y_train)\n",
    "y_pred = xgb.predict(X_test)\n",
    "print(classification_report(y_test, y_pred))"
   ]
  },
  {
   "cell_type": "code",
   "execution_count": 38,
   "id": "774bb3e9-ed03-4643-b482-f71b3a3f39dd",
   "metadata": {},
   "outputs": [],
   "source": [
    "svm_model = SVC(random_state=432)"
   ]
  },
  {
   "cell_type": "code",
   "execution_count": 40,
   "id": "790a9fde-d6be-423c-8935-8fad2409f2e6",
   "metadata": {},
   "outputs": [
    {
     "name": "stdout",
     "output_type": "stream",
     "text": [
      "              precision    recall  f1-score   support\n",
      "\n",
      "           0       0.62      0.53      0.57        15\n",
      "           1       0.37      0.47      0.41        15\n",
      "           2       0.62      0.79      0.70        19\n",
      "           3       0.26      0.26      0.26        23\n",
      "           4       0.55      0.29      0.37        21\n",
      "           5       0.57      0.63      0.60        19\n",
      "           6       0.48      0.45      0.47        22\n",
      "           7       0.36      0.28      0.31        18\n",
      "           8       0.88      0.58      0.70        24\n",
      "           9       0.38      0.45      0.41        20\n",
      "          10       0.36      0.43      0.39        23\n",
      "          11       0.50      0.11      0.18        18\n",
      "          12       0.17      0.32      0.22        19\n",
      "          13       0.74      0.48      0.58        29\n",
      "          14       0.59      0.67      0.63        24\n",
      "          15       0.18      0.19      0.18        16\n",
      "          16       0.26      0.40      0.32        15\n",
      "\n",
      "    accuracy                           0.44       340\n",
      "   macro avg       0.46      0.43      0.43       340\n",
      "weighted avg       0.48      0.44      0.44       340\n",
      "\n"
     ]
    }
   ],
   "source": [
    "svm_model.fit(X_train, y_train)\n",
    "y_pred = svm_model.predict(X_test)\n",
    "print(classification_report(y_test, y_pred))"
   ]
  },
  {
   "cell_type": "code",
   "execution_count": null,
   "id": "5c17410a-838a-4090-9713-fe5d33434675",
   "metadata": {},
   "outputs": [],
   "source": []
  }
 ],
 "metadata": {
  "kernelspec": {
   "display_name": "Python 3 (ipykernel)",
   "language": "python",
   "name": "python3"
  },
  "language_info": {
   "codemirror_mode": {
    "name": "ipython",
    "version": 3
   },
   "file_extension": ".py",
   "mimetype": "text/x-python",
   "name": "python",
   "nbconvert_exporter": "python",
   "pygments_lexer": "ipython3",
   "version": "3.11.7"
  }
 },
 "nbformat": 4,
 "nbformat_minor": 5
}
