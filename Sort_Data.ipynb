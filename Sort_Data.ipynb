{
 "cells": [
  {
   "cell_type": "code",
   "execution_count": 1,
   "id": "871bf774-ef93-4ff9-894e-88c227c5076c",
   "metadata": {},
   "outputs": [],
   "source": [
    "import os\n",
    "import shutil"
   ]
  },
  {
   "cell_type": "code",
   "execution_count": 8,
   "id": "3e73d33d-0416-4c01-a90b-4e37367bfea8",
   "metadata": {},
   "outputs": [],
   "source": [
    "image_path = \"jpg/\"\n",
    "categoty_path = \"jpg_category/\"\n",
    "if not os.path.exists(categoty_path):\n",
    "    os.mkdir(categoty_path)\n"
   ]
  },
  {
   "cell_type": "code",
   "execution_count": 10,
   "id": "930e7258-3a65-418f-8c43-2ec8cad18616",
   "metadata": {},
   "outputs": [],
   "source": [
    "flowers_name = [\n",
    "    \"Dffodil\",\"Snowdrop\",\"LilyValley\",\"Bluebell\",\"Crocus\",\"Iris\",\"Tigerlily\",\"Tulip\",\"Fritillary\",\"Sunflower\",\"Daisy\",\"ColtsFoot\",\"Dandelion\",\"Cowslip\",\"Buttercup\",\"Windflower\",\"Pansy\"\n",
    "]\n",
    "images_per_flower = 80"
   ]
  },
  {
   "cell_type": "code",
   "execution_count": 12,
   "id": "c16b8fff-6a09-467a-bf36-2a0f2a7624a5",
   "metadata": {},
   "outputs": [],
   "source": [
    "for i , flower_name in enumerate(flowers_name,start=1):\n",
    "    flower_folder = os.path.join(categoty_path,flower_name)\n",
    "    os.makedirs(flower_folder,exist_ok=True)\n",
    "    start_i = (i-1)*images_per_flower+1\n",
    "    end_i = i*images_per_flower+1\n",
    "    for image in range(start_i,end_i):\n",
    "        image_name = f\"image_{image:04d}.jpg\"\n",
    "        image_source = os.path.join(image_path,image_name)\n",
    "        destination = os.path.join(flower_folder,image_name)\n",
    "        if os.path.exists(image_source):\n",
    "            shutil.copy(image_source, destination)\n",
    "        else:\n",
    "            print(f\"Image {image_name} not found!\")\n"
   ]
  },
  {
   "cell_type": "code",
   "execution_count": null,
   "id": "33e7857e-fbc7-4908-8329-2268d5110a69",
   "metadata": {},
   "outputs": [],
   "source": []
  }
 ],
 "metadata": {
  "kernelspec": {
   "display_name": "Python 3 (ipykernel)",
   "language": "python",
   "name": "python3"
  },
  "language_info": {
   "codemirror_mode": {
    "name": "ipython",
    "version": 3
   },
   "file_extension": ".py",
   "mimetype": "text/x-python",
   "name": "python",
   "nbconvert_exporter": "python",
   "pygments_lexer": "ipython3",
   "version": "3.11.7"
  }
 },
 "nbformat": 4,
 "nbformat_minor": 5
}
